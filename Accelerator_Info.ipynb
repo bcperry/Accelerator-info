{
 "cells": [
  {
   "cell_type": "markdown",
   "metadata": {},
   "source": [
    "# GitHub Repository Analyzer for Azure Solutions\n",
    "\n",
    "This notebook analyzes GitHub repositories containing Azure solutions and provides insights about their capabilities, deployment methods, and differentiation from other solutions.\n",
    "\n",
    "## Setup\n",
    "\n",
    "First, let's set up the environment and load our dependencies:"
   ]
  },
  {
   "cell_type": "code",
   "execution_count": 1,
   "metadata": {},
   "outputs": [],
   "source": [
    "# Import necessary libraries\n",
    "import os\n",
    "import json\n",
    "import pandas as pd\n",
    "from dotenv import load_dotenv\n",
    "from IPython.display import display, Markdown, HTML\n",
    "\n",
    "# Load environment variables from .env file\n",
    "load_dotenv()\n",
    "\n",
    "# Import our helper modules\n",
    "from utils.github_analyzer import GitHubRepoAnalyzer\n",
    "from utils.openai_helper import AzureOpenAIAnalyzer"
   ]
  },
  {
   "cell_type": "markdown",
   "metadata": {},
   "source": [
    "## Check Azure OpenAI Configuration\n",
    "\n",
    "Let's make sure our Azure OpenAI configuration is properly set up:"
   ]
  },
  {
   "cell_type": "code",
   "execution_count": 2,
   "metadata": {},
   "outputs": [
    {
     "name": "stdout",
     "output_type": "stream",
     "text": [
      "✅ Azure OpenAI credentials configured successfully!\n",
      "✅ GitHub token found - higher rate limits will be available\n"
     ]
    }
   ],
   "source": [
    "# Check if Azure OpenAI credentials are set up\n",
    "required_vars = {\n",
    "    \"AZURE_OPENAI_ENDPOINT\": os.getenv(\"AZURE_OPENAI_ENDPOINT\"),\n",
    "    \"AZURE_OPENAI_KEY\": os.getenv(\"AZURE_OPENAI_KEY\"),\n",
    "    \"AZURE_OPENAI_DEPLOYMENT\": os.getenv(\"AZURE_OPENAI_DEPLOYMENT\")\n",
    "}\n",
    "\n",
    "missing_vars = [var for var, value in required_vars.items() if not value]\n",
    "\n",
    "if missing_vars:\n",
    "    print(f\"⚠️ Missing environment variables: {', '.join(missing_vars)}\")\n",
    "    print(\"Please create a .env file with the required Azure OpenAI credentials.\")\n",
    "else:\n",
    "    print(\"✅ Azure OpenAI credentials configured successfully!\")\n",
    "    \n",
    "# Check GitHub token (optional)\n",
    "if os.getenv(\"GITHUB_TOKEN\"):\n",
    "    print(\"✅ GitHub token found - higher rate limits will be available\")\n",
    "else:\n",
    "    print(\"ℹ️ No GitHub token found - using anonymous access (rate limited)\")"
   ]
  },
  {
   "cell_type": "markdown",
   "metadata": {},
   "source": [
    "## GitHub Repository Analysis\n",
    "\n",
    "Now let's create a function to analyze a GitHub repository and extract the required information:"
   ]
  },
  {
   "cell_type": "code",
   "execution_count": 3,
   "metadata": {},
   "outputs": [],
   "source": [
    "def analyze_github_repository(repo_url, verbose = False):\n",
    "    \"\"\"Analyze a GitHub repository and extract information\"\"\"\n",
    "    print(f\"Analyzing repository: {repo_url}\")\n",
    "    \n",
    "    # Step 1: Initialize analyzers\n",
    "    github_analyzer = GitHubRepoAnalyzer()\n",
    "    openai_analyzer = AzureOpenAIAnalyzer()\n",
    "    \n",
    "    # Step 2: Extract repository information\n",
    "    print(\"Extracting repository information...\")\n",
    "    try:\n",
    "        repo_data = github_analyzer.extract_repo_info(repo_url)\n",
    "        \n",
    "        if verbose:\n",
    "            print(\"Repository information: \\n\", json.dumps(repo_data, indent=2))\n",
    "\n",
    "    except Exception as e:\n",
    "        print(f\"Error extracting repository data: {str(e)}\")\n",
    "        return None\n",
    "    \n",
    "    # Step 3: Analyze with Azure OpenAI\n",
    "    print(\"Analyzing repository with Azure OpenAI...\")\n",
    "    try:\n",
    "        analysis_results = openai_analyzer.analyze_repo(repo_data)\n",
    "    except Exception as e:\n",
    "        print(f\"Error during OpenAI analysis: {str(e)}\")\n",
    "        return None\n",
    "    \n",
    "    # Step 4: Format results for display\n",
    "    print(\"Analysis complete!\")\n",
    "    return analysis_results\n",
    "\n",
    "def format_analysis_results(repo_url, results):\n",
    "    \"\"\"Format analysis results into a structured dictionary\"\"\"\n",
    "    # Extract values and explanations from results\n",
    "    formatted = {\n",
    "        \"Repository URL\": repo_url,\n",
    "        \"RBAC Enabled?\": f\"{results.get('rbac_enabled', {}).get('answer', 'Unknown')} ({results.get('rbac_enabled', {}).get('confidence_level', 'low')})\",\n",
    "        \"Azure Gov Ready?\": f\"{results.get('azure_gov_ready', {}).get('answer', 'Unknown')} ({results.get('azure_gov_ready', {}).get('confidence_level', 'low')})\",\n",
    "        \"Azure Secret Ready\": f\"{results.get('azure_secret_ready', {}).get('answer', 'Unknown')} ({results.get('azure_secret_ready', {}).get('confidence_level', 'low')})\",\n",
    "        \"Chat History?\": f\"{results.get('chat_history', {}).get('answer', 'Unknown')} ({results.get('chat_history', {}).get('confidence_level', 'low')})\",\n",
    "        \"# of Azure Services?\": f\"{results.get('azure_services_count', {}).get('answer', 'Unknown')} ({results.get('azure_services_count', {}).get('confidence_level', 'low')})\",\n",
    "        \"Arch Diagram\": f\"{results.get('architecture_diagram_present', {}).get('answer', 'Unknown')} ({results.get('architecture_diagram_present', {}).get('confidence_level', 'low')})\",\n",
    "        \"Differentiators from AskSage\": results.get('differentiators_from_asksage', {}).get('answer', 'Unknown'),\n",
    "        \"Differentiators from NIPRGPT\": results.get('differentiators_from_niprgpt', {}).get('answer', 'Unknown'),\n",
    "        \"Differentiators from CamoGPT\": results.get('differentiators_from_camogpt', {}).get('answer', 'Unknown'),\n",
    "        \"Deployment Method\": f\"{results.get('deployment_method', {}).get('answer', 'Unknown')} ({results.get('deployment_method', {}).get('confidence_level', 'low')})\",\n",
    "        \"Costs Estimate\": f\"{results.get('costs_estimate', {}).get('answer', 'Unknown')} ({results.get('costs_estimate', {}).get('confidence_level', 'low')})\",\n",
    "        \"Notes\": results.get('notes', {}).get('answer', '')\n",
    "    }\n",
    "    \n",
    "    return formatted"
   ]
  },
  {
   "cell_type": "markdown",
   "metadata": {},
   "source": [
    "## Analyze a Single Repository\n",
    "\n",
    "Let's analyze a single GitHub repository and display the results:"
   ]
  },
  {
   "cell_type": "code",
   "execution_count": 4,
   "metadata": {},
   "outputs": [],
   "source": [
    "# Enter the GitHub repository URL to analyze\n",
    "# repo_url = input(\"Enter the GitHub repository URL to analyze: \")\n",
    "repo_url = \"https://github.com/microsoft/azurechat\" # Example URL for testing"
   ]
  },
  {
   "cell_type": "code",
   "execution_count": 5,
   "metadata": {},
   "outputs": [],
   "source": [
    "# # Analyze the repository\n",
    "# analysis_result = analyze_github_repository(repo_url)\n",
    "\n",
    "# analysis_result_formatted = format_analysis_results(repo_url, analysis_result)\n",
    "\n",
    "# # Display results as a DataFrame for better visibility\n",
    "# if analysis_result_formatted:\n",
    "#     # Convert to DataFrame\n",
    "#     df = pd.DataFrame.from_dict(analysis_result)\n",
    "#     display(HTML(df.to_html()))\n",
    "    \n",
    "#     # Also save as CSV\n",
    "#     repo_name = repo_url.rstrip('/').split('/')[-1]\n",
    "#     filename = f\"data/{repo_name}_analysis.csv\"\n",
    "#     df.to_csv(filename)\n",
    "#     print(f\"Analysis saved to {filename}\")"
   ]
  },
  {
   "cell_type": "markdown",
   "metadata": {},
   "source": [
    "## Batch Analysis\n",
    "\n",
    "Now let's create functionality to analyze multiple repositories at once and compare them:"
   ]
  },
  {
   "cell_type": "code",
   "execution_count": 6,
   "metadata": {},
   "outputs": [],
   "source": [
    "def analyze_multiple_repositories(repo_urls):\n",
    "    \"\"\"Analyze multiple GitHub repositories and return a combined DataFrame\"\"\"\n",
    "    results = []\n",
    "    \n",
    "    for url in repo_urls:\n",
    "        print(f\"\\n{'='*50}\\nAnalyzing: {url}\\n{'='*50}\")\n",
    "        result = analyze_github_repository(url)\n",
    "        if result:\n",
    "            # Extract repository name\n",
    "            repo_name = url.rstrip('/').split('/')[-1]\n",
    "            result_with_name = {\"Repository Name\": repo_name, **result}\n",
    "            results.append(result_with_name)\n",
    "    \n",
    "    # Convert results to DataFrame\n",
    "    if results:\n",
    "        # Create DataFrame and set Repository Name as index\n",
    "        df = pd.DataFrame(results)\n",
    "        df.set_index(\"Repository Name\", inplace=True)\n",
    "        \n",
    "        # Save combined results to CSV\n",
    "        df.to_csv(\"data/repository_comparison.csv\")\n",
    "        print(f\"\\nAnalysis of {len(results)} repositories saved to data/repository_comparison.csv\")\n",
    "        \n",
    "        return df\n",
    "    else:\n",
    "        print(\"No valid analysis results\")\n",
    "        return None"
   ]
  },
  {
   "cell_type": "code",
   "execution_count": 10,
   "metadata": {},
   "outputs": [
    {
     "name": "stdout",
     "output_type": "stream",
     "text": [
      "\n",
      "==================================================\n",
      "Analyzing: https://github.com/microsoft/azurechat\n",
      "==================================================\n",
      "Analyzing repository: https://github.com/microsoft/azurechat\n",
      "Extracting repository information...\n",
      "Analyzing repository with Azure OpenAI...\n",
      "Analysis complete!\n",
      "\n",
      "Analysis of 1 repositories saved to data/repository_comparison.csv\n"
     ]
    },
    {
     "data": {
      "text/html": [
       "<table border=\"1\" class=\"dataframe\">\n",
       "  <thead>\n",
       "    <tr style=\"text-align: right;\">\n",
       "      <th></th>\n",
       "      <th>rbac_enabled</th>\n",
       "      <th>azure_gov_ready</th>\n",
       "      <th>azure_secret_ready</th>\n",
       "      <th>chat_history</th>\n",
       "      <th>azure_services_count</th>\n",
       "      <th>architecture_diagram_present</th>\n",
       "      <th>differentiators_from_asksage</th>\n",
       "      <th>differentiators_from_niprgpt</th>\n",
       "      <th>differentiators_from_camogpt</th>\n",
       "      <th>differentiators_from_aiflow</th>\n",
       "      <th>deployment_method</th>\n",
       "      <th>costs_estimate</th>\n",
       "      <th>notes</th>\n",
       "    </tr>\n",
       "    <tr>\n",
       "      <th>Repository Name</th>\n",
       "      <th></th>\n",
       "      <th></th>\n",
       "      <th></th>\n",
       "      <th></th>\n",
       "      <th></th>\n",
       "      <th></th>\n",
       "      <th></th>\n",
       "      <th></th>\n",
       "      <th></th>\n",
       "      <th></th>\n",
       "      <th></th>\n",
       "      <th></th>\n",
       "      <th></th>\n",
       "    </tr>\n",
       "  </thead>\n",
       "  <tbody>\n",
       "    <tr>\n",
       "      <th>azurechat</th>\n",
       "      <td>{'answer': 'No', 'explanation': 'The solution does not explicitly mention RBAC within the application for uploading data or other operations.', 'confidence': 'high'}</td>\n",
       "      <td>{'answer': 'No', 'explanation': 'The solution does not mention specific readiness for Azure Government Cloud.', 'confidence': 'high'}</td>\n",
       "      <td>{'answer': 'No', 'explanation': 'The solution does not mention specific readiness for Azure Government SECRET or TOP SECRET Cloud.', 'confidence': 'high'}</td>\n",
       "      <td>{'answer': 'Yes', 'explanation': 'The solution uses Azure Cosmos DB to store chat history.', 'confidence': 'high'}</td>\n",
       "      <td>{'answer': 11, 'explanation': 'The solution uses Azure OpenAI, Azure Cosmos DB, Azure App Service, Azure AI Document Intelligence, Azure AI Search, Azure AI Speech, Azure Key Vault, Azure Blob Storage, Azure Monitor, Azure Developer CLI, and Azure Private Endpoints.', 'confidence': 'high'}</td>\n",
       "      <td>{'answer': 'Yes', 'explanation': 'The solution includes a high-level architecture diagram in the documentation.', 'confidence': 'high'}</td>\n",
       "      <td>{'answer': ['It is not deployed in Azure Government Cloud', 'It enables the use of organization data', 'It does not offer tool usage'], 'explanation': 'AzureChat is not specifically mentioned as being deployed in Azure Government Cloud, it allows the use of organizational data, and does not offer tool usage.', 'confidence': 'high'}</td>\n",
       "      <td>{'answer': ['It is not Government Owned', 'It enables agents', 'It offers external APIs', 'It offers tool usage'], 'explanation': 'AzureChat is not government-owned, enables agents, offers external APIs, and offers tool usage.', 'confidence': 'high'}</td>\n",
       "      <td>{'answer': ['It is not Government Owned', 'It enables agents', 'It enables the use of organization data', 'It offers tool usage'], 'explanation': 'AzureChat is not government-owned, enables agents, enables the use of organizational data, and offers tool usage.', 'confidence': 'high'}</td>\n",
       "      <td>{'answer': ['It is not Government Owned', 'It is not deployed in Azure Government Cloud'], 'explanation': 'AzureChat is not government-owned and is not specifically mentioned as being deployed in Azure Government Cloud.', 'confidence': 'high'}</td>\n",
       "      <td>{'answer': 'Azure Developer CLI and GitHub Actions', 'explanation': 'The solution can be deployed using Azure Developer CLI or GitHub Actions.', 'confidence': 'high'}</td>\n",
       "      <td>{'answer': 'Variable', 'explanation': 'The cost depends on the Azure services used and their usage. The documentation provides a link to the Azure pricing calculator for an estimate.', 'confidence': 'high'}</td>\n",
       "      <td>{'answer': 'The solution provides a comprehensive set of features for deploying a private chat tenant in Azure, including managed identity-based security, support for private endpoints, and ESLZ compliant deployment.', 'explanation': 'The solution is well-documented and includes various deployment options and security features.', 'confidence': 'high'}</td>\n",
       "    </tr>\n",
       "  </tbody>\n",
       "</table>"
      ],
      "text/plain": [
       "<IPython.core.display.HTML object>"
      ]
     },
     "metadata": {},
     "output_type": "display_data"
    }
   ],
   "source": [
    "# Example usage for batch analysis\n",
    "# Uncomment and modify the list of URLs as needed\n",
    "\n",
    "repo_urls = [\n",
    "\"https://github.com/microsoft/azurechat\",\n",
    "# \"https://github.com/microsoft/PubSec-Info-Assistant\",\n",
    "# \"https://github.com/Azure-Samples/azure-search-openai-demo\",\n",
    "# \"https://github.com/Azure-Samples/chat-with-your-data-solution-accelerator\",\n",
    "# \"https://github.com/microsoft/simplechat\",\n",
    "# \"https://github.com/Azure-Samples/azure-ai-vercel-rag-starter\",\n",
    "# \"https://github.com/Azure-Samples/azure-search-openai-javascript\",\n",
    "# \"https://github.com/Azure-Samples/serverless-chat-langchainjs\",\n",
    "# \"https://github.com/usri/azuregov-search-knowledge-mining\"\n",
    "]\n",
    "comparison_df = analyze_multiple_repositories(repo_urls)\n",
    "display(HTML(comparison_df.to_html()))"
   ]
  },
  {
   "cell_type": "code",
   "execution_count": 11,
   "metadata": {},
   "outputs": [],
   "source": [
    "# Interactively input multiple repositories\n",
    "def input_multiple_repos():\n",
    "    print(\"Enter GitHub repository URLs (one per line). Enter a blank line when finished:\")\n",
    "    urls = []\n",
    "    while True:\n",
    "        url = input()\n",
    "        if not url:\n",
    "            break\n",
    "        urls.append(url)\n",
    "    return urls\n",
    "\n",
    "# Uncomment to use\n",
    "# repo_urls = input_multiple_repos()\n",
    "# if repo_urls:\n",
    "#     comparison_df = analyze_multiple_repositories(repo_urls)\n",
    "#     if comparison_df is not None:\n",
    "#         display(HTML(comparison_df.to_html()))"
   ]
  },
  {
   "cell_type": "code",
   "execution_count": 15,
   "metadata": {},
   "outputs": [
    {
     "name": "stderr",
     "output_type": "stream",
     "text": [
      "C:\\Users\\blaineperry\\AppData\\Local\\Temp\\ipykernel_39104\\3660273816.py:2: FutureWarning: DataFrame.applymap has been deprecated. Use DataFrame.map instead.\n",
      "  answers_df = comparison_df.applymap(lambda x: x.get('answer') if isinstance(x, dict) else (x.get('value') if isinstance(x, dict) else x))\n",
      "C:\\Users\\blaineperry\\AppData\\Local\\Temp\\ipykernel_39104\\3660273816.py:4: FutureWarning: Downcasting behavior in `replace` is deprecated and will be removed in a future version. To retain the old behavior, explicitly call `result.infer_objects(copy=False)`. To opt-in to the future behavior, set `pd.set_option('future.no_silent_downcasting', True)`\n",
      "  answers_df = answers_df.replace({\"Yes\": True, \"No\": False})\n"
     ]
    }
   ],
   "source": [
    "# Extract the \"answer\" key from each cell in the dataframe\n",
    "answers_df = comparison_df.applymap(lambda x: x.get('answer') if isinstance(x, dict) else (x.get('value') if isinstance(x, dict) else x))\n",
    "# Convert \"Yes\" to True and \"No\" to False\n",
    "answers_df = answers_df.replace({\"Yes\": True, \"No\": False})\n",
    "# Display the resulting dataframe\n",
    "answers_df\n",
    "\n",
    "# Save the answers DataFrame to a CSV file\n",
    "answers_df.to_csv(\"data/formatted_repo_comparison.csv\", index=False)"
   ]
  },
  {
   "cell_type": "markdown",
   "metadata": {},
   "source": [
    "## Conclusion\n",
    "\n",
    "This notebook demonstrates how to analyze GitHub repositories containing Azure solutions and extract specific information about their features, capabilities, and deployment methods. The analysis is powered by Azure OpenAI and provides insights into important aspects like RBAC support, Azure Government compatibility, architecture diagrams, deployment methods, and cost estimates.\n",
    "\n",
    "To use this notebook:\n",
    "1. Ensure your Azure OpenAI credentials are set up in a `.env` file\n",
    "2. Enter a GitHub repository URL to analyze\n",
    "3. Review the analysis results\n",
    "4. Optionally use the batch analysis feature to compare multiple repositories\n",
    "\n",
    "The analysis results can help you make informed decisions about which Azure solution best meets your requirements."
   ]
  }
 ],
 "metadata": {
  "kernelspec": {
   "display_name": ".venv",
   "language": "python",
   "name": "python3"
  },
  "language_info": {
   "codemirror_mode": {
    "name": "ipython",
    "version": 3
   },
   "file_extension": ".py",
   "mimetype": "text/x-python",
   "name": "python",
   "nbconvert_exporter": "python",
   "pygments_lexer": "ipython3",
   "version": "3.12.9"
  }
 },
 "nbformat": 4,
 "nbformat_minor": 2
}
